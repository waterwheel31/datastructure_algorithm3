{
 "cells": [
  {
   "cell_type": "markdown",
   "metadata": {},
   "source": [
    "# HTTPRouter using Trie data structure\n",
    "\n",
    "## Problem\n",
    "\n",
    "Implement an HTTPRouter like found in a typical web server using the Trie data structure.\n",
    "\n",
    "There are many different implementations of HTTP Routers such as regular expressions or simple string matching, but the Trie is an excellent and very efficient data structure for this purpose.\n",
    "\n",
    "The purpose of an HTTP Router is to take a URL path like \"/\", \"/about\", or \"/blog/2019-01-15/my-awesome-blog-post\" and figure out what content to return. In a dynamic web server, the content will often come from a block of code called a handler.\n",
    "\n",
    "First we need to implement a slightly different Trie than the one we used for autocomplete. Instead of simple words the Trie will contain a part of the http path at each node, building from the root node /\n",
    "\n",
    "In addition to a path though, we need to know which function will handle the http request. In a real router we would probably pass an instance of a class like Python's SimpleHTTPRequestHandler which would be responsible for handling requests to that path. For the sake of simplicity we will just use a string that we can print out to ensure we got the right handler\n",
    "\n",
    "We could split the path into letters similar to how we did the autocomplete Trie, but this would result in a Trie with a very large number of nodes and lengthy traversals if we have a lot of pages on our site. A more sensible way to split things would be on the parts of the path that are separated by slashes (\"/\"). A Trie with a single path entry of: \"/about/me\" would look like:\n",
    "\n",
    "(root, None) -> (\"about\", None) -> (\"me\", \"About Me handler\")\n",
    "\n",
    "\n",
    "## Code\n"
   ]
  },
  {
   "cell_type": "code",
   "execution_count": 75,
   "metadata": {},
   "outputs": [],
   "source": [
    "# A RouteTrie will store our routes and their associated handlers\n",
    "class RouteTrie:\n",
    "    def __init__(self, handler):\n",
    "        self.root = RouteTrieNode(handler)\n",
    "        \n",
    "    def insert(self, path, handler=''):\n",
    "       \n",
    "        current_node = self.root\n",
    "        \n",
    "        for part in path:\n",
    "            if part not in current_node.children:\n",
    "                current_node.insert(part)\n",
    "            current_node = current_node.children[part]\n",
    "        current_node.EOW = True\n",
    "        current_node.handler = handler\n",
    "        \n",
    "    def find(self, path):\n",
    "\n",
    "        current_node = self.root\n",
    "        \n",
    "        for part in path:\n",
    "            \n",
    "            if part not in current_node.children:\n",
    "                return None \n",
    "            current_node = current_node.children[part]\n",
    "            \n",
    "        return current_node\n",
    "        \n",
    "# A RouteTrieNode will be similar to our autocomplete TrieNode... with one additional element, a handler.\n",
    "class RouteTrieNode:\n",
    "    def __init__(self, handler=None):\n",
    "        self.children = {}\n",
    "        self.EOW = False # EOW = end of word \n",
    "        self.handler = handler\n",
    "\n",
    "    def insert(self, part=''):\n",
    "        self.children[part] = RouteTrieNode()"
   ]
  },
  {
   "cell_type": "code",
   "execution_count": 78,
   "metadata": {},
   "outputs": [],
   "source": [
    "# The Router class will wrap the Trie and handle \n",
    "class Router:\n",
    "    def __init__(self, root_handler, not_found_handler):\n",
    "        \n",
    "        self.RouteTrie = RouteTrie(root_handler)\n",
    "        self.not_found_handler = not_found_handler\n",
    "       \n",
    "        \n",
    "    def add_handler(self, path, handler):\n",
    "     \n",
    "        sp_path = self.split_path(path)\n",
    "        self.RouteTrie.insert(sp_path, handler)\n",
    "        \n",
    "\n",
    "    def lookup(self, path):\n",
    "     \n",
    "        sp_path = self.split_path(path)\n",
    "        result = self.RouteTrie.find(sp_path)\n",
    "        \n",
    "        if result is None:\n",
    "            ret = self.not_found_handler\n",
    "        else:\n",
    "            ret = result.handler\n",
    "        \n",
    "        if ret is None:\n",
    "            ret = self.not_found_handler\n",
    "        \n",
    "        return ret\n",
    "        \n",
    "\n",
    "    def split_path(self, path):\n",
    "       \n",
    "        sp_path = path.split('/')\n",
    "        sp_path = [x for x in sp_path if len(x) > 0]\n",
    "        \n",
    "        return sp_path "
   ]
  },
  {
   "cell_type": "markdown",
   "metadata": {},
   "source": [
    "## Test Cases"
   ]
  },
  {
   "cell_type": "code",
   "execution_count": 79,
   "metadata": {
    "scrolled": true
   },
   "outputs": [
    {
     "name": "stdout",
     "output_type": "stream",
     "text": [
      "root handler\n",
      "not found handler\n",
      "about handler\n",
      "about handler\n",
      "not found handler\n"
     ]
    }
   ],
   "source": [
    "# create the router and add a route\n",
    "router = Router(\"root handler\", \"not found handler\") # remove the 'not found handler' if you did not implement this\n",
    "router.add_handler(\"/home/about\", \"about handler\")  # add a route\n",
    "\n",
    "# some lookups with the expected output\n",
    "print(router.lookup(\"/\")) # should print 'root handler'\n",
    "print(router.lookup(\"/home\")) # should print 'not found handler' or None if you did not implement one\n",
    "print(router.lookup(\"/home/about\")) # should print 'about handler'\n",
    "print(router.lookup(\"/home/about/\")) # should print 'about handler' or None if you did not handle trailing slashes\n",
    "print(router.lookup(\"/home/about/me\")) # should print 'not found handler' or None if you did not implement one"
   ]
  },
  {
   "cell_type": "markdown",
   "metadata": {},
   "source": [
    "## Comment\n",
    "\n",
    "This uses Trie data structure and the time complexity is O(n), where n is the length of the parts of the url"
   ]
  },
  {
   "cell_type": "code",
   "execution_count": null,
   "metadata": {},
   "outputs": [],
   "source": []
  }
 ],
 "metadata": {
  "kernelspec": {
   "display_name": "Python 3",
   "language": "python",
   "name": "python3"
  },
  "language_info": {
   "codemirror_mode": {
    "name": "ipython",
    "version": 3
   },
   "file_extension": ".py",
   "mimetype": "text/x-python",
   "name": "python",
   "nbconvert_exporter": "python",
   "pygments_lexer": "ipython3",
   "version": "3.7.4"
  }
 },
 "nbformat": 4,
 "nbformat_minor": 4
}
