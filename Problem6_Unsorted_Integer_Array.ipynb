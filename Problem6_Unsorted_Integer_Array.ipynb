{
 "cells": [
  {
   "cell_type": "markdown",
   "metadata": {},
   "source": [
    "## Max and Min in a Unsorted Array\n",
    "\n",
    "In this problem, we will look for smallest and largest integer from a list of unsorted integers. The code should run in O(n) time. Do not use Python's inbuilt functions to find min and max.\n",
    "\n",
    "Bonus Challenge: Is it possible to find the max and min in a single traversal?\n",
    "\n",
    "Sorting usually requires O(n log n) time Can you come up with a O(n) algorithm (i.e., linear time)?"
   ]
  },
  {
   "cell_type": "code",
   "execution_count": 2,
   "metadata": {},
   "outputs": [
    {
     "ename": "IndentationError",
     "evalue": "unindent does not match any outer indentation level (<tokenize>, line 8)",
     "output_type": "error",
     "traceback": [
      "\u001b[1;36m  File \u001b[1;32m\"<tokenize>\"\u001b[1;36m, line \u001b[1;32m8\u001b[0m\n\u001b[1;33m    pass\u001b[0m\n\u001b[1;37m    ^\u001b[0m\n\u001b[1;31mIndentationError\u001b[0m\u001b[1;31m:\u001b[0m unindent does not match any outer indentation level\n"
     ]
    }
   ],
   "source": [
    "def get_min_max(ints):\n",
    "    \"\"\"\n",
    "    Return a tuple(min, max) out of list of unsorted integers.\n",
    "\n",
    "    Args:\n",
    "       ints(list): list of integers containing one or more integers\n",
    "    \"\"\"\n",
    "   pass\n",
    "\n",
    "## Example Test Case of Ten Integers\n",
    "import random\n",
    "\n",
    "l = [i for i in range(0, 10)]  # a list containing 0 - 9\n",
    "random.shuffle(l)\n",
    "\n",
    "print (\"Pass\" if ((0, 9) == get_min_max(l)) else \"Fail\")"
   ]
  },
  {
   "cell_type": "code",
   "execution_count": null,
   "metadata": {},
   "outputs": [],
   "source": []
  }
 ],
 "metadata": {
  "kernelspec": {
   "display_name": "Python 3",
   "language": "python",
   "name": "python3"
  },
  "language_info": {
   "codemirror_mode": {
    "name": "ipython",
    "version": 3
   },
   "file_extension": ".py",
   "mimetype": "text/x-python",
   "name": "python",
   "nbconvert_exporter": "python",
   "pygments_lexer": "ipython3",
   "version": "3.7.4"
  }
 },
 "nbformat": 4,
 "nbformat_minor": 4
}
