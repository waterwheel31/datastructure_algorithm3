{
 "cells": [
  {
   "cell_type": "markdown",
   "metadata": {},
   "source": [
    "# Search in a Rotated Sorted Array"
   ]
  },
  {
   "cell_type": "markdown",
   "metadata": {},
   "source": [
    "## Problem\n",
    "\n",
    "You are given a sorted array which is rotated at some random pivot point.\n",
    "\n",
    "Example: [0,1,2,4,5,6,7] might become [4,5,6,7,0,1,2]\n",
    "\n",
    "You are given a target value to search. If found in the array return its index, otherwise return -1.\n",
    "\n",
    "You can assume there are no duplicates in the array and your algorithm's runtime complexity must be in the order of O(log n).\n",
    "\n",
    "Example:\n",
    "\n",
    "Input: nums = [4,5,6,7,0,1,2], target = 0, Output: 4"
   ]
  },
  {
   "cell_type": "markdown",
   "metadata": {},
   "source": [
    "## Code"
   ]
  },
  {
   "cell_type": "code",
   "execution_count": 121,
   "metadata": {},
   "outputs": [],
   "source": [
    "def binary_search_find_min(input_list, left_idx):\n",
    "    \n",
    "    list_size = len(input_list)\n",
    "\n",
    "    if list_size == 1: \n",
    "        return left_idx \n",
    "    \n",
    "    elif list_size == 2:\n",
    "        if input_list[0] > input_list[1]: \n",
    "            return left_idx + 1\n",
    "        else:\n",
    "            return left_idx\n",
    "    \n",
    "    else:\n",
    "        if list_size % 2 == 0:  \n",
    "            mid_idx = int(list_size/2)-1\n",
    "        else: \n",
    "            mid_idx = int(list_size/2)\n",
    "        \n",
    "        if input_list[mid_idx] > input_list[-1]:\n",
    "            return  binary_search_find_min(input_list[mid_idx:], left_idx + mid_idx)\n",
    "        elif input_list[mid_idx] < input_list[mid_idx-1]:\n",
    "            return left_idx + mid_idx\n",
    "        else:\n",
    "            return binary_search_find_min(input_list[:mid_idx], left_idx)"
   ]
  },
  {
   "cell_type": "code",
   "execution_count": 124,
   "metadata": {},
   "outputs": [],
   "source": [
    "def binary_search(input_list, number, left_idx):\n",
    "    \n",
    "    list_size = len(input_list)\n",
    "    mid_idx = int(list_size/2)\n",
    "    \n",
    "    if list_size == 1: \n",
    "        if input_list[0] == number:\n",
    "            return left_idx\n",
    "        else: return -1\n",
    "        \n",
    "    if list_size == 2: \n",
    "        if input_list[0] == number:\n",
    "            return left_idx\n",
    "        if input_list[1] == number:\n",
    "            return left_idx + 1\n",
    "        else: return -1\n",
    "\n",
    "        \n",
    "    if input_list[mid_idx] == number: \n",
    "        return left_idx + mid_idx\n",
    " \n",
    "    \n",
    "    if input_list[mid_idx] < number: \n",
    "        return binary_search (input_list[mid_idx:], number, left_idx + mid_idx)\n",
    "    else:\n",
    "        return binary_search (input_list[:mid_idx], number, left_idx)\n",
    "        "
   ]
  },
  {
   "cell_type": "code",
   "execution_count": 125,
   "metadata": {},
   "outputs": [
    {
     "name": "stdout",
     "output_type": "stream",
     "text": [
      "Pass\n",
      "Pass\n",
      "Pass\n",
      "Pass\n",
      "Pass\n"
     ]
    }
   ],
   "source": [
    "def rotated_array_search(input_list, number):\n",
    "    \"\"\"\n",
    "    Find the index by searching in a rotated sorted array\n",
    "\n",
    "    Args:\n",
    "       input_list(array), number(int): Input array to search and the target\n",
    "    Returns:\n",
    "       int: Index or -1\n",
    "    \"\"\"\n",
    "    min_idx = binary_search_find_min(input_list, 0)\n",
    "    \n",
    "    mod_list = input_list[min_idx:] + input_list[:min_idx]\n",
    "    \n",
    "    mod_index = binary_search(mod_list, number, 0)\n",
    "    \n",
    "    if mod_index == -1:\n",
    "        index = -1\n",
    "    else:\n",
    "        index = (mod_index + min_idx) % len(input_list)\n",
    "    return index \n",
    "\n",
    "\n",
    "def test_function(test_case):\n",
    "    input_list = test_case[0]\n",
    "    number = test_case[1]\n",
    "    if linear_search(input_list, number) == rotated_array_search(input_list, number):\n",
    "        print(\"Pass\")\n",
    "    else:\n",
    "        print(\"Fail\")\n",
    "\n",
    "test_function([[6, 7, 8, 9, 10, 1, 2, 3, 4], 6])\n",
    "test_function([[6, 7, 8, 9, 10, 1, 2, 3, 4], 1])\n",
    "test_function([[6, 7, 8, 1, 2, 3, 4], 8])\n",
    "test_function([[6, 7, 8, 1, 2, 3, 4], 1])\n",
    "test_function([[6, 7, 8, 1, 2, 3, 4], 10])"
   ]
  },
  {
   "cell_type": "markdown",
   "metadata": {},
   "source": [
    "## Comment\n",
    "\n",
    "Applied two binery searheces. First one is to find the smallest to cancell out the rotation, and the second one is to search on the sorted array. Since one binery search's time complexity is O(log n), two binery searches' complexity is also O(log n)"
   ]
  },
  {
   "cell_type": "code",
   "execution_count": null,
   "metadata": {},
   "outputs": [],
   "source": []
  }
 ],
 "metadata": {
  "kernelspec": {
   "display_name": "Python 3",
   "language": "python",
   "name": "python3"
  },
  "language_info": {
   "codemirror_mode": {
    "name": "ipython",
    "version": 3
   },
   "file_extension": ".py",
   "mimetype": "text/x-python",
   "name": "python",
   "nbconvert_exporter": "python",
   "pygments_lexer": "ipython3",
   "version": "3.7.4"
  }
 },
 "nbformat": 4,
 "nbformat_minor": 4
}
