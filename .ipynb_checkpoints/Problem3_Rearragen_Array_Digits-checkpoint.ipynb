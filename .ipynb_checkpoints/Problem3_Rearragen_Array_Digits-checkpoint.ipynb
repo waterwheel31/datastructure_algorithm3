{
 "cells": [
  {
   "cell_type": "markdown",
   "metadata": {},
   "source": [
    "# Rearrange Array Elements\n",
    "\n",
    "\n",
    "## Problem\n",
    "Rearrange Array Elements so as to form two number such that their sum is maximum. Return these two numbers. You can assume that all array elements are in the range [0, 9]. The number of digits in both the numbers cannot differ by more than 1. You're not allowed to use any sorting function that Python provides and the expected time complexity is O(nlog(n)).\n",
    "\n",
    "for e.g. [1, 2, 3, 4, 5]\n",
    "\n",
    "The expected answer would be [531, 42]. Another expected answer can be [542, 31]. In scenarios such as these when there are more than one possible answers, return any one.\n",
    "\n",
    "## Code"
   ]
  },
  {
   "cell_type": "code",
   "execution_count": 226,
   "metadata": {},
   "outputs": [],
   "source": [
    "def merge(group):\n",
    "    \n",
    "    merged = []\n",
    "    \n",
    "    if len(group) <= 1:\n",
    "        merged = group\n",
    "        \n",
    "    else:\n",
    "        left_gr = group[0]\n",
    "        right_gr = group[1]\n",
    "        \n",
    "        if isinstance(left_gr, int): left_gr = [left_gr]\n",
    "        if isinstance(right_gr, int): right_gr = [right_gr]\n",
    "                \n",
    "        left_len = len(left_gr)\n",
    "        right_len = len(right_gr)\n",
    "        \n",
    "        le, ri= 0, 0\n",
    "        \n",
    "        while le < left_len or ri < right_len:\n",
    "            \n",
    "            if le == left_len:\n",
    "                merged.append(right_gr[ri])\n",
    "                ri += 1\n",
    "            elif ri == right_len:\n",
    "                merged.append(left_gr[le])\n",
    "                le += 1\n",
    "            elif left_gr[le] < right_gr[ri]:\n",
    "                merged.append(left_gr[le])\n",
    "                le += 1\n",
    "            else: \n",
    "                merged.append(right_gr[ri])\n",
    "                ri += 1\n",
    "        \n",
    "    \n",
    "    return merged"
   ]
  },
  {
   "cell_type": "code",
   "execution_count": 227,
   "metadata": {},
   "outputs": [],
   "source": [
    "def group(input_list):\n",
    "    \n",
    "    grouped_list = []\n",
    "    \n",
    "    list_length = len(input_list)\n",
    "    if list_length % 2 == 1:\n",
    "        list_length_half = int((list_length + 1)/2)\n",
    "    else: \n",
    "        list_length_half = int(list_length / 2)\n",
    " \n",
    "    for i in range(list_length_half): \n",
    "        \n",
    "        if i * 2 + 1 == list_length: \n",
    "            grouped_list.append(input_list[i*2])\n",
    "        else:\n",
    "            grouped_list.append([input_list[i*2], input_list[i*2 + 1]] )\n",
    "    \n",
    "    return grouped_list"
   ]
  },
  {
   "cell_type": "code",
   "execution_count": 228,
   "metadata": {},
   "outputs": [],
   "source": [
    "def merge_sort(input_list):\n",
    "    \n",
    "    initial_list = [[x] for x in input_list]\n",
    "    \n",
    "    sorted_list = initial_list\n",
    "    \n",
    "    while len(sorted_list) > 1:\n",
    "        sorted_list = group(sorted_list)\n",
    "        sorted_list = [merge(li) for li in sorted_list]\n",
    "        \n",
    "    return sorted_list[0]"
   ]
  },
  {
   "cell_type": "code",
   "execution_count": 229,
   "metadata": {},
   "outputs": [
    {
     "name": "stdout",
     "output_type": "stream",
     "text": [
      "Pass\n",
      "Pass\n"
     ]
    }
   ],
   "source": [
    "def rearrange_digits(input_list):\n",
    "    \"\"\"\n",
    "    Rearrange Array Elements so as to form two number such that their sum is maximum.\n",
    "\n",
    "    Args:\n",
    "       input_list(list): Input List\n",
    "    Returns:\n",
    "       (int),(int): Two maximum sums\n",
    "    \"\"\"\n",
    "    sorted_list = merge_sort(input_list)    \n",
    "    \n",
    "    sums = [0, 0]\n",
    "    \n",
    "    for i, v in enumerate(sorted_list):\n",
    "        \n",
    "        rank = i // 2\n",
    "        group = i % 2\n",
    "           \n",
    "        sums[group] += v * 10**rank\n",
    "    \n",
    "    return sums \n",
    "\n",
    "\n",
    "def test_function(test_case):\n",
    "    output = rearrange_digits(test_case[0])\n",
    "    solution = test_case[1]\n",
    "    if sum(output) == sum(solution):\n",
    "        print(\"Pass\")\n",
    "    else:\n",
    "        print(\"Fail\")\n",
    "\n",
    "test_function([[1, 2, 3, 4, 5], [542, 31]])\n",
    "test_case = [[4, 6, 2, 5, 9, 8], [964, 852]]\n",
    "test_function(test_case)\n"
   ]
  },
  {
   "cell_type": "markdown",
   "metadata": {},
   "source": [
    "## Comment\n",
    "\n",
    "This is a sorting problem. Used merge sort, that time complexity is O(nlog(n))"
   ]
  }
 ],
 "metadata": {
  "kernelspec": {
   "display_name": "Python 3",
   "language": "python",
   "name": "python3"
  },
  "language_info": {
   "codemirror_mode": {
    "name": "ipython",
    "version": 3
   },
   "file_extension": ".py",
   "mimetype": "text/x-python",
   "name": "python",
   "nbconvert_exporter": "python",
   "pygments_lexer": "ipython3",
   "version": "3.7.4"
  }
 },
 "nbformat": 4,
 "nbformat_minor": 4
}
